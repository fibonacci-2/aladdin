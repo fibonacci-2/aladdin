{
 "cells": [
  {
   "cell_type": "code",
   "execution_count": 6,
   "id": "2b028280",
   "metadata": {},
   "outputs": [],
   "source": [
    "# !python3 -m pip uninstall torch torchvision\n",
    "# !python3 -m pip install torch torchvision --index-url https://download.pytorch.org/whl/cu128\n",
    "# import torch"
   ]
  },
  {
   "cell_type": "code",
   "execution_count": 1,
   "id": "9f1c5bd3-6a1c-4588-b7f3-ab9fff236ca8",
   "metadata": {},
   "outputs": [],
   "source": [
    "import torch"
   ]
  },
  {
   "cell_type": "code",
   "execution_count": 5,
   "id": "0907beba-03b5-437f-b8ce-7748b6f7f12b",
   "metadata": {},
   "outputs": [
    {
     "data": {
      "text/plain": [
       "_CudaDeviceProperties(name='Tesla V100-SXM2-16GB', major=7, minor=0, total_memory=16144MB, multi_processor_count=80, uuid=0d7ed128-444d-f58e-4523-32328d969704, pci_bus_id=30, pci_device_id=0, pci_domain_id=0, L2_cache_size=6MB)"
      ]
     },
     "execution_count": 5,
     "metadata": {},
     "output_type": "execute_result"
    }
   ],
   "source": [
    "torch.cuda.get_device_properties(3)"
   ]
  },
  {
   "cell_type": "code",
   "execution_count": null,
   "id": "59333636-a7b6-4e7b-8853-31158b6ac6d0",
   "metadata": {},
   "outputs": [],
   "source": []
  }
 ],
 "metadata": {
  "kernelspec": {
   "display_name": "Python 3 (ipykernel)",
   "language": "python",
   "name": "python3"
  },
  "language_info": {
   "codemirror_mode": {
    "name": "ipython",
    "version": 3
   },
   "file_extension": ".py",
   "mimetype": "text/x-python",
   "name": "python",
   "nbconvert_exporter": "python",
   "pygments_lexer": "ipython3",
   "version": "3.11.6"
  }
 },
 "nbformat": 4,
 "nbformat_minor": 5
}
